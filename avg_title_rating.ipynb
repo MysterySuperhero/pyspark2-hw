{
 "cells": [
  {
   "cell_type": "code",
   "execution_count": 6,
   "metadata": {},
   "outputs": [],
   "source": [
    "keyword = \"camera\""
   ]
  },
  {
   "cell_type": "code",
   "execution_count": 7,
   "metadata": {},
   "outputs": [],
   "source": [
    "input_file = \"/user/cloudera/data/input/prodname_avg_rating.csv\""
   ]
  },
  {
   "cell_type": "code",
   "execution_count": 18,
   "metadata": {},
   "outputs": [],
   "source": [
    "import csv, io\n",
    "\n",
    "def get_dict_from_csv(csv_row):\n",
    "    result = list(csv.reader([csv_row]))\n",
    "    if (len(result[0]) == 3): \n",
    "        return (result[0][0], result[0][1], result[0][2]) \n",
    "    else:\n",
    "        return None\n",
    "\n",
    "def list_to_csv_str(x):\n",
    "    \"\"\"Given a list of strings, returns a properly-csv-formatted string.\"\"\"\n",
    "    output = io.StringIO(\"\")\n",
    "    csv.writer(output).writerow(x)\n",
    "    return output.getvalue().strip() # remove extra newline"
   ]
  },
  {
   "cell_type": "code",
   "execution_count": 19,
   "metadata": {},
   "outputs": [],
   "source": [
    "rdd_products = sc.textFile(input_file).map(lambda row: get_dict_from_csv(row)).filter(lambda x: x is not None)"
   ]
  },
  {
   "cell_type": "code",
   "execution_count": 21,
   "metadata": {},
   "outputs": [],
   "source": [
    "rdd_products_with_keyword = rdd_products.filter(lambda x: keyword in x[1].lower())"
   ]
  },
  {
   "cell_type": "code",
   "execution_count": null,
   "metadata": {},
   "outputs": [],
   "source": []
  }
 ],
 "metadata": {
  "kernelspec": {
   "display_name": "Python 3",
   "language": "python",
   "name": "python3"
  },
  "language_info": {
   "codemirror_mode": {
    "name": "ipython",
    "version": 3
   },
   "file_extension": ".py",
   "mimetype": "text/x-python",
   "name": "python",
   "nbconvert_exporter": "python",
   "pygments_lexer": "ipython3",
   "version": "3.6.3"
  }
 },
 "nbformat": 4,
 "nbformat_minor": 2
}
