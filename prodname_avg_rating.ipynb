{
 "cells": [
  {
   "cell_type": "code",
   "execution_count": 1,
   "metadata": {},
   "outputs": [],
   "source": [
    "avg_rating_csv = \"hdfs:///user/cloudera/data/input/avg_rating.csv\"\n",
    "input_meta = \"hdfs:///user/cloudera/data/input/meta_Electronics.json\"  \n",
    "output = \"hdfs:///user/cloudera/data/output_spark_prod_title\""
   ]
  },
  {
   "cell_type": "code",
   "execution_count": 2,
   "metadata": {},
   "outputs": [],
   "source": [
    "def get_dict_from_csv(csv_row):\n",
    "    result = list(csv.reader([csv_row]))\n",
    "    return (result[0][0], result[0][1])"
   ]
  },
  {
   "cell_type": "code",
   "execution_count": 3,
   "metadata": {},
   "outputs": [],
   "source": [
    "import ast\n",
    "\n",
    "def get_prod_id_and_title(product_json_item):\n",
    "    dict_product_item = ast.literal_eval(product_json_item)\n",
    "    return (dict_product_item['asin'], dict_product_item.get('title', None))"
   ]
  },
  {
   "cell_type": "code",
   "execution_count": 4,
   "metadata": {},
   "outputs": [],
   "source": [
    "import csv, io\n",
    "\n",
    "def list_to_csv_str(x):\n",
    "    \"\"\"Given a list of strings, returns a properly-csv-formatted string.\"\"\"\n",
    "    output = io.StringIO(\"\")\n",
    "    csv.writer(output).writerow(x)\n",
    "    return output.getvalue().strip() # remove extra newline"
   ]
  },
  {
   "cell_type": "code",
   "execution_count": 5,
   "metadata": {},
   "outputs": [],
   "source": [
    "rdd_avg_ratings = sc.textFile(avg_rating_csv).map(lambda row: get_dict_from_csv(row))"
   ]
  },
  {
   "cell_type": "code",
   "execution_count": 6,
   "metadata": {},
   "outputs": [],
   "source": [
    "rdd_titles = sc.textFile(input_meta).map(lambda row: get_prod_id_and_title(row)).filter(lambda x: x[1] is not None)"
   ]
  },
  {
   "cell_type": "code",
   "execution_count": 7,
   "metadata": {},
   "outputs": [],
   "source": [
    "rdd_id_title_rating = rdd_avg_ratings.join(rdd_titles).map(lambda x: (x[0], \"\\\"\" + x[1][1] + \"\\\"\", x[1][0]))"
   ]
  },
  {
   "cell_type": "code",
   "execution_count": 8,
   "metadata": {},
   "outputs": [],
   "source": [
    "rdd_id_title_rating = rdd_id_title_rating.filter(lambda x: x[0] is not None and x[1] is not None and x[2] is not None)"
   ]
  },
  {
   "cell_type": "code",
   "execution_count": 20,
   "metadata": {},
   "outputs": [],
   "source": [
    "rdd_id_title_rating.map(list_to_csv_str).saveAsTextFile(output)"
   ]
  },
  {
   "cell_type": "code",
   "execution_count": 9,
   "metadata": {},
   "outputs": [
    {
     "data": {
      "text/plain": [
       "['B00000JBUI,\"\"\"Logitech TrackMan Marble FX Trackball\"\"\",4.909090909090909',\n",
       " 'B00001W0DG,\"\"\"Sony MDR-V500DJ Monitor Series Headphones with Swivel Earcups (Discontinued by Manufacturer)\"\"\",3.6666666666666665',\n",
       " 'B00003CWG4,\"\"\"Monster Cable TGHZ-4RF 2 Gigahertz 4-Way Low-Loss RF Splitters for TV &amp; Satellite (Discontinued by Manufacturer)\"\"\",4.0',\n",
       " 'B00004TZE5,\"\"\"CD30 Nylon CD Case (30-Capacity) (Discontinued by Manufacturer)\"\"\",4.625',\n",
       " 'B00004WLJ5,\"\"\"Gardner Bender 46-310 Electrical 11-Inch Cable Ties, 100-Pack, Natural\"\"\",4.411764705882353']"
      ]
     },
     "execution_count": 9,
     "metadata": {},
     "output_type": "execute_result"
    }
   ],
   "source": [
    "rdd_id_title_rating.map(list_to_csv_str).take(5)"
   ]
  },
  {
   "cell_type": "code",
   "execution_count": null,
   "metadata": {},
   "outputs": [],
   "source": []
  }
 ],
 "metadata": {
  "kernelspec": {
   "display_name": "Python 3",
   "language": "python",
   "name": "python3"
  },
  "language_info": {
   "codemirror_mode": {
    "name": "ipython",
    "version": 3
   },
   "file_extension": ".py",
   "mimetype": "text/x-python",
   "name": "python",
   "nbconvert_exporter": "python",
   "pygments_lexer": "ipython3",
   "version": "3.6.3"
  }
 },
 "nbformat": 4,
 "nbformat_minor": 2
}
