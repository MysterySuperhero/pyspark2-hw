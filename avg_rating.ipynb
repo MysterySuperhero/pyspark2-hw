{
 "cells": [
  {
   "cell_type": "code",
   "execution_count": 1,
   "metadata": {},
   "outputs": [],
   "source": [
    "rdd_review = sc.textFile(\"hdfs:///user/cloudera/data/input/sample_full.json\")"
   ]
  },
  {
   "cell_type": "code",
   "execution_count": 2,
   "metadata": {},
   "outputs": [],
   "source": [
    "import json\n",
    "\n",
    "def get_prod_rating(review_json_item):\n",
    "    dict_review_item = json.loads(review_json_item)\n",
    "    return (dict_review_item[\"asin\"], dict_review_item[\"overall\"])"
   ]
  },
  {
   "cell_type": "code",
   "execution_count": 3,
   "metadata": {},
   "outputs": [],
   "source": [
    "import csv, io\n",
    "\n",
    "def list_to_csv_str(x):\n",
    "    \"\"\"Given a list of strings, returns a properly-csv-formatted string.\"\"\"\n",
    "    output = io.StringIO(\"\")\n",
    "    csv.writer(output).writerow(x)\n",
    "    return output.getvalue().strip() # remove extra newline"
   ]
  },
  {
   "cell_type": "code",
   "execution_count": 4,
   "metadata": {},
   "outputs": [],
   "source": [
    "rdd_prod_rating = rdd_review.map(lambda row: get_prod_rating(row))"
   ]
  },
  {
   "cell_type": "code",
   "execution_count": 5,
   "metadata": {},
   "outputs": [],
   "source": [
    "rdd_avg_by_prod = rdd_prod_rating.aggregateByKey((0,0), \n",
    "                                        lambda x, value: (x[0] + value, x[1] + 1), \n",
    "                                        lambda x, y: (x[0] + y[0], x[1] + y[1])).mapValues(lambda x: x[0]/x[1])"
   ]
  },
  {
   "cell_type": "code",
   "execution_count": null,
   "metadata": {},
   "outputs": [],
   "source": [
    "rdd_avg_by_prod.map(list_to_csv_str).saveAsTextFile(\"hdfs:///user/cloudera/data/output_spark_avg_rating\")"
   ]
  },
  {
   "cell_type": "code",
   "execution_count": 6,
   "metadata": {},
   "outputs": [
    {
     "data": {
      "text/plain": [
       "['0594481813,4.0',\n",
       " '1400532655,3.8073394495412844',\n",
       " 'B000001OM4,4.352941176470588',\n",
       " 'B000001OMI,4.4',\n",
       " 'B00000J3Q7,4.230769230769231']"
      ]
     },
     "execution_count": 6,
     "metadata": {},
     "output_type": "execute_result"
    }
   ],
   "source": [
    "rdd_avg_by_prod.map(list_to_csv_str).take(5)"
   ]
  },
  {
   "cell_type": "code",
   "execution_count": null,
   "metadata": {},
   "outputs": [],
   "source": []
  }
 ],
 "metadata": {
  "kernelspec": {
   "display_name": "Python 3",
   "language": "python",
   "name": "python3"
  },
  "language_info": {
   "codemirror_mode": {
    "name": "ipython",
    "version": 3
   },
   "file_extension": ".py",
   "mimetype": "text/x-python",
   "name": "python",
   "nbconvert_exporter": "python",
   "pygments_lexer": "ipython3",
   "version": "3.6.3"
  }
 },
 "nbformat": 4,
 "nbformat_minor": 2
}
